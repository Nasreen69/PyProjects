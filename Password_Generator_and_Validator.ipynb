{
  "nbformat": 4,
  "nbformat_minor": 0,
  "metadata": {
    "colab": {
      "provenance": [],
      "include_colab_link": true
    },
    "kernelspec": {
      "name": "python3",
      "display_name": "Python 3"
    }
  },
  "cells": [
    {
      "cell_type": "markdown",
      "metadata": {
        "id": "view-in-github",
        "colab_type": "text"
      },
      "source": [
        "<a href=\"https://colab.research.google.com/github/Nasreen69/PyProjects/blob/main/Password_Generator_and_Validator.ipynb\" target=\"_parent\"><img src=\"https://colab.research.google.com/assets/colab-badge.svg\" alt=\"Open In Colab\"/></a>"
      ]
    },
    {
      "cell_type": "markdown",
      "source": [
        "### ***8-Bit Password Generator***"
      ],
      "metadata": {
        "id": "4HgRVu_T-flj"
      }
    },
    {
      "cell_type": "markdown",
      "source": [
        "*A password is valid only if it has:*\n",
        "- *Atleast 8 Characters*\n",
        "- *UpperCase Characters: A-Z*\n",
        "- *LowerCase Characters: a-z*\n",
        "- *Numbers: 0-9*\n",
        "- *Any of the Speacial Characters/Symbols: @#$%^&*"
      ],
      "metadata": {
        "id": "kWBhc6qaAHIx"
      }
    },
    {
      "cell_type": "code",
      "source": [
        "import random as ra\n",
        "\n",
        "Caps = chr(ra.randrange(ord('A'), ord('Z')))\n",
        "Small = chr(ra.randrange(ord('a'), ord('z')))\n",
        "Nums = str(ra.randint(0,10))\n",
        "Symb = ra.choice('@#$%^&*')\n",
        "\n",
        "P = Caps+Small+Nums+Symb \n",
        "\n",
        "while len(P)<8:\n",
        "  char = ra.randint(1,4)\n",
        "  if char == 1:\n",
        "     P += chr(ra.randrange(ord('A'), ord('Z')))   \n",
        "  if char == 2:\n",
        "    P +=  chr(ra.randrange(ord('a'), ord('z')))\n",
        "  if char == 3:\n",
        "    P += str(ra.randint(0,10))\n",
        "  if char == 4:\n",
        "    P += ra.choice('@#$%^&*')     \n",
        "\n",
        "'''\n",
        "print(type(Caps),Caps)\n",
        "print(type(Small),Small)\n",
        "print(type(Nums),Nums)\n",
        "print(type(Symb),Symb)'''\n",
        "\n",
        "print(\"Your 8-Bit Password:\", P)"
      ],
      "metadata": {
        "colab": {
          "base_uri": "https://localhost:8080/"
        },
        "id": "9jXdTxmh5Mj0",
        "outputId": "d6c42454-0dd7-4195-ff8e-16ee60a060f6"
      },
      "execution_count": 36,
      "outputs": [
        {
          "output_type": "stream",
          "name": "stdout",
          "text": [
            "Your 8-Bit Password: Lh4&%90&\n"
          ]
        }
      ]
    },
    {
      "cell_type": "markdown",
      "source": [
        "### ***8-Bit Password Validator***"
      ],
      "metadata": {
        "id": "zT1pL4NS_6Np"
      }
    },
    {
      "cell_type": "code",
      "metadata": {
        "colab": {
          "base_uri": "https://localhost:8080/"
        },
        "id": "raNnJ85PV89A",
        "outputId": "f954bb95-2515-4445-fd3c-112ce3b3ef23"
      },
      "source": [
        "import re \n",
        "\n",
        "p = input(\"Enter the password: \")\n",
        "\n",
        "flag = True\n",
        "\n",
        "while flag:   \n",
        "    if len(p)<8 :\n",
        "        print(\"Invalid Password: password length must be of atleat 8 characters\") \n",
        "        break\n",
        "    elif not re.search(\"[A-Z]\", p): \n",
        "        print(\"Invalid Password: Add Upper Case character\")\n",
        "        break\n",
        "    elif not re.search(\"[a-z]\", p): \n",
        "        print(\"Invalid Password: Add Lower Case character\")      \n",
        "        break\n",
        "    elif not re.search(\"[0-9]\", p):\n",
        "        print(\"Invalid Password: Add integer Number\") \n",
        "        break\n",
        "    elif not re.search(\"[@#$%^&]\", p):\n",
        "        print(\"Invalid Password: Add Special character/Symbol\") \n",
        "        break\n",
        "    else: \n",
        "        print(\"Valid Password\") \n",
        "        break\n",
        "  \n",
        "if flag == False: \n",
        "    print(\"Not a Valid Password\") "
      ],
      "execution_count": 37,
      "outputs": [
        {
          "output_type": "stream",
          "name": "stdout",
          "text": [
            "Enter the password: Lh4&%90&\n",
            "Valid Password\n"
          ]
        }
      ]
    }
  ]
}