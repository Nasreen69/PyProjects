{
  "nbformat": 4,
  "nbformat_minor": 0,
  "metadata": {
    "colab": {
      "provenance": [],
      "include_colab_link": true
    },
    "kernelspec": {
      "name": "python3",
      "display_name": "Python 3"
    }
  },
  "cells": [
    {
      "cell_type": "markdown",
      "metadata": {
        "id": "view-in-github",
        "colab_type": "text"
      },
      "source": [
        "<a href=\"https://colab.research.google.com/github/Nasreen69/PyProjects/blob/main/OTP_Generator.ipynb\" target=\"_parent\"><img src=\"https://colab.research.google.com/assets/colab-badge.svg\" alt=\"Open In Colab\"/></a>"
      ]
    },
    {
      "cell_type": "markdown",
      "metadata": {
        "id": "MMYT807cRo5r"
      },
      "source": [
        "#OTP Generation using Python \n",
        "A one-time password (OTP), also known as dynamic password or one-time PIN, is a password that is valid for only one login session or transaction, on a computer system or other digital device.\n",
        "\n",
        "- Mostly used for 2FA (two-factor authentication)\n",
        "\n",
        "- Currently its used in almost every secured websites/services:\n",
        "  - Online Banking\n",
        "  - E-Commerce\n",
        "  - Social Medias\n",
        "\n",
        "- **Function to be used:** Random\n",
        "\n",
        "- **Logic:** The function will pick random index of string array which contains all the possible candidates of a particular digit of the OTP.\n"
      ]
    },
    {
      "cell_type": "markdown",
      "metadata": {
        "id": "FQZQxtSQWOaE"
      },
      "source": [
        "### Method - 1"
      ]
    },
    {
      "cell_type": "code",
      "metadata": {
        "id": "OjCx0iX0WQZf",
        "colab": {
          "base_uri": "https://localhost:8080/"
        },
        "outputId": "84a0dcf3-4acf-478e-9d96-aad59f92acbc"
      },
      "source": [
        "import random\n",
        "\n",
        "def OTP(length):\n",
        "    chars = \"0123456789abcdefghijklmnopqrstuvwxyzABCDEFGHIJKLMNOPQRSTUVWXYZ\"\n",
        "    logic = ''.join(random.choice(chars) for i in range(length))\n",
        "    print(\"Random string of length\", length, \"is:\", logic)\n",
        "\n",
        "\n",
        "OTP(3)"
      ],
      "execution_count": 21,
      "outputs": [
        {
          "output_type": "stream",
          "name": "stdout",
          "text": [
            "Random string of length 3 is: dO4\n"
          ]
        }
      ]
    },
    {
      "cell_type": "markdown",
      "metadata": {
        "id": "sNdcUAJnWsZB"
      },
      "source": [
        "### Method - 2"
      ]
    },
    {
      "cell_type": "code",
      "metadata": {
        "id": "C-weaZiaLldy",
        "colab": {
          "base_uri": "https://localhost:8080/"
        },
        "outputId": "9cfcd791-a3b3-4ecf-ee94-ed216d4eb600"
      },
      "source": [
        "import random  \n",
        "import string  \n",
        "\n",
        "def OTP(len):  \n",
        "          \n",
        "    otp_gen_logic = ''.join([random.choice( string.ascii_uppercase + string.ascii_lowercase + string.digits) \n",
        "                                                 for i in range(len)])  \n",
        "                                                                                                      \n",
        "                             \n",
        "    print(\"OTP: \", otp_gen_logic)\n",
        "\n",
        "len = int(input(\"Enter the length of the password: \")) \n",
        "\n",
        "  \n",
        "OTP(len)  "
      ],
      "execution_count": 10,
      "outputs": [
        {
          "output_type": "stream",
          "name": "stdout",
          "text": [
            "Enter the length of the password: 4\n",
            "OTP:  XAem\n"
          ]
        }
      ]
    },
    {
      "cell_type": "markdown",
      "metadata": {
        "id": "rkdjkClWZsW9"
      },
      "source": [
        "### Method - 3"
      ]
    },
    {
      "cell_type": "code",
      "metadata": {
        "id": "IAoDo7hgOdH1",
        "colab": {
          "base_uri": "https://localhost:8080/"
        },
        "outputId": "39be3a9e-43d0-4b09-9006-d05e3827e2c3"
      },
      "source": [
        "import random\n",
        "\n",
        "char= \"!@#$%^&*()_+-={}|:<>?,./;'[]\\=-\"\n",
        "\n",
        "def otp_gen(n):  \n",
        "           \n",
        "    OTPgenerate = ''.join( [ \n",
        "                             random.choice(string.digits + string.ascii_letters +char) for i in range(n) \n",
        "                             ] ) \n",
        "                                             \n",
        "                                                                          \n",
        "    print(\"OTP: \", OTPgenerate)\n",
        "\n",
        "n = int(input(\"Enter the length of the password \"))\n",
        "\n",
        "otp_gen(n)"
      ],
      "execution_count": 19,
      "outputs": [
        {
          "output_type": "stream",
          "name": "stdout",
          "text": [
            "Enter the length of the password 6\n",
            "OTP:  q7(-O3\n"
          ]
        }
      ]
    }
  ]
}