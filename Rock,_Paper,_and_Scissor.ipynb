{
  "nbformat": 4,
  "nbformat_minor": 0,
  "metadata": {
    "colab": {
      "provenance": [],
      "collapsed_sections": [
        "TH01kyxKiLtS",
        "4MWqVb6hWXWh",
        "oJlHTDJIiW--"
      ],
      "include_colab_link": true
    },
    "kernelspec": {
      "name": "python3",
      "display_name": "Python 3"
    }
  },
  "cells": [
    {
      "cell_type": "markdown",
      "metadata": {
        "id": "view-in-github",
        "colab_type": "text"
      },
      "source": [
        "<a href=\"https://colab.research.google.com/github/Nasreen69/PyProjects/blob/main/Rock%2C_Paper%2C_and_Scissor.ipynb\" target=\"_parent\"><img src=\"https://colab.research.google.com/assets/colab-badge.svg\" alt=\"Open In Colab\"/></a>"
      ]
    },
    {
      "cell_type": "markdown",
      "source": [
        "# Biginner"
      ],
      "metadata": {
        "id": "TH01kyxKiLtS"
      }
    },
    {
      "cell_type": "code",
      "source": [
        "import random as ra\n",
        "\n",
        "user = int(input(\"Choose:\\n 1.Rock\\n 2.Paper\\n 3.Scissor\\n\"))\n",
        "computer = ra.randint(1,3)\n",
        "print(computer)\n",
        "\n",
        "if user == 1 and computer == 2:\n",
        "  print(\"Computer Won\")\n",
        "elif user == 1 and computer == 3:\n",
        "  print(\"User Won\")\n",
        "\n",
        "elif user == 2 and computer == 1:\n",
        "  print(\"User won\")\n",
        "elif user == 2 and computer == 3:\n",
        "  print(\"Computer Won\")  \n",
        "\n",
        "elif user == 3 and computer == 1:\n",
        "  print(\"Computer Won\")\n",
        "elif user == 3 and computer == 2:  \n",
        "  print(\"User Won\")\n",
        "\n",
        "else:\n",
        "  user == computer\n",
        "  print(\"Tie\")\n"
      ],
      "metadata": {
        "colab": {
          "base_uri": "https://localhost:8080/"
        },
        "id": "-FKPPOBVQQ8H",
        "outputId": "2f69e35e-a30d-4229-d6df-c7116786ad76"
      },
      "execution_count": 30,
      "outputs": [
        {
          "output_type": "stream",
          "name": "stdout",
          "text": [
            "2\n",
            "Choose:\n",
            " 1.Rock\n",
            " 2.Paper\n",
            " 3.Scissor\n",
            "3\n",
            "User Won\n"
          ]
        }
      ]
    },
    {
      "cell_type": "markdown",
      "source": [
        "# Intermediate"
      ],
      "metadata": {
        "id": "4MWqVb6hWXWh"
      }
    },
    {
      "cell_type": "code",
      "source": [
        "import random\n",
        "print(\"Hello, I'm rock paper scissors game!!!\")\n",
        "a = int(input(\"Enter your choice\\n1. Rock \\n2.Paper \\n3.Scissors:\\n\"))\n",
        "b = random.randint(1,3)\n",
        "\n",
        "print(\"You Entered\", a)\n",
        "print(\"PC Entered \", b)\n",
        "\n",
        "if a > 3 or a < 1:\n",
        "    print(\"Invalid input, Please enter between 1 and 3\")\n",
        "else:\n",
        "    if a == b:\n",
        "        print(\"Its a tie!!!\")\n",
        "    \n",
        "    if a == 1 and b == 2:\n",
        "        print(\"Computer won\")\n",
        "    if a == 1 and b == 3:\n",
        "        print(\"YOu won\")\n",
        "        \n",
        "    if a == 2 and b == 1:\n",
        "        print(\"you won\")\n",
        "    if a == 2 and b == 3:\n",
        "        print(\"Computer Won\")\n",
        "    \n",
        "    if a == 3 and b == 1:\n",
        "        print(\"Computer won\")\n",
        "    if a == 3 and b == 2:\n",
        "        print(\"You won\")"
      ],
      "metadata": {
        "colab": {
          "base_uri": "https://localhost:8080/"
        },
        "id": "XF4wWxU0VLjZ",
        "outputId": "0958e14f-3bc3-4b79-9b46-0fdcde7f5fc9"
      },
      "execution_count": 32,
      "outputs": [
        {
          "output_type": "stream",
          "name": "stdout",
          "text": [
            "Hello, I'm rock paper scissors game!!!\n",
            "Enter your choice\n",
            "1. Rock \n",
            "2.Paper \n",
            "3.Scissors:\n",
            "1\n",
            "You Entered 1\n",
            "PC Entered  3\n",
            "YOu won\n"
          ]
        }
      ]
    },
    {
      "cell_type": "markdown",
      "source": [
        "# Experience"
      ],
      "metadata": {
        "id": "oJlHTDJIiW--"
      }
    },
    {
      "cell_type": "code",
      "metadata": {
        "id": "SWlLxb7oMGYK",
        "colab": {
          "base_uri": "https://localhost:8080/"
        },
        "outputId": "100a6f0e-4772-4135-ee28-30da95f26d00"
      },
      "source": [
        "from random import randint\n",
        "\n",
        "#create a list of play options\n",
        "t = [\"Rock\", \"Paper\", \"Scissors\"]\n",
        "\n",
        "#assign a random play to the computer\n",
        "computer = t[randint(0,2)]\n",
        "\n",
        "#set player to False\n",
        "player = False\n",
        "\n",
        "while player == False:\n",
        "#set player to True\n",
        "    player = input(\"Rock, Paper, Scissors? \")\n",
        "    if player == computer:\n",
        "        print(\"Tie!\")\n",
        "    elif player == \"Rock\":\n",
        "        if computer == \"Paper\":\n",
        "            print(\"You lose!\", computer, \"covers\", player)\n",
        "        else:\n",
        "            print(\"You win!\", player, \"smashes\", computer)\n",
        "    elif player == \"Paper\":\n",
        "        if computer == \"Scissors\":\n",
        "            print(\"You lose!\", computer, \"cut\", player)\n",
        "        else:\n",
        "            print(\"You win!\", player, \"covers\", computer)\n",
        "    elif player == \"Scissors\":\n",
        "        if computer == \"Rock\":\n",
        "            print(\"You lose...\", computer, \"smashes\", player)\n",
        "        else:\n",
        "            print(\"You win!\", player, \"cut\", computer)\n",
        "    else:\n",
        "        print(\"That's not a valid play. Check your spelling/case!\")\n",
        "    break    \n",
        "    #player was set to True, but we want it to be False so the loop continues\n",
        "    player = False\n",
        "    computer = t[randint(0,2)]"
      ],
      "execution_count": 34,
      "outputs": [
        {
          "output_type": "stream",
          "name": "stdout",
          "text": [
            "Rock, Paper, Scissors? Rock\n",
            "You lose! Paper covers Rock\n"
          ]
        }
      ]
    }
  ]
}